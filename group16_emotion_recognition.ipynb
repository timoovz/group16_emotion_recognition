{
 "cells": [
  {
   "cell_type": "markdown",
   "id": "18ea03ec",
   "metadata": {},
   "source": [
    "# Emotion recognition group 16\n",
    "### Members\n",
    "- Rens Scheepers: 1622749\n",
    "- Zijian Dong: 2268264\n",
    "- Timo Vojnic Zelic: 172411\n",
    "\n",
    "Python version: 3.13.5  \n",
    "\n"
   ]
  },
  {
   "cell_type": "markdown",
   "id": "13d17da8",
   "metadata": {},
   "source": []
  }
 ],
 "metadata": {
  "kernelspec": {
   "display_name": "emotion_recognition",
   "language": "python",
   "name": "python3"
  },
  "language_info": {
   "name": "python",
   "version": "3.13.5"
  }
 },
 "nbformat": 4,
 "nbformat_minor": 5
}
